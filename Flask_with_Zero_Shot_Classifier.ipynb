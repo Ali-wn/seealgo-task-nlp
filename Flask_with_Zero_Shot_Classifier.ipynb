{
  "nbformat": 4,
  "nbformat_minor": 0,
  "metadata": {
    "colab": {
      "name": "Flask with Zero Shot Classifier.ipynb",
      "provenance": [],
      "collapsed_sections": []
    },
    "kernelspec": {
      "name": "python3",
      "display_name": "Python 3"
    },
    "accelerator": "GPU"
  },
  "cells": [
    {
      "cell_type": "markdown",
      "metadata": {
        "id": "-Fjgsc-Rl3R3"
      },
      "source": [
        "\n",
        "# This notebook has Zero shot classifier Implementation with both\n",
        "\n",
        "# 1.   Server Side Implementation\n",
        "**Implemention done in Flask and Huggingface Transformers Library.**\n",
        "\n",
        "# 2.   Client Side Implementation\n",
        "**Implementation done using Python requests Package.**\n",
        "\n"
      ]
    },
    {
      "cell_type": "code",
      "metadata": {
        "id": "6gGspw2yZ7a4"
      },
      "source": [
        "! pip install transformers"
      ],
      "execution_count": null,
      "outputs": []
    },
    {
      "cell_type": "code",
      "metadata": {
        "id": "Zxk5dWZZcmjM",
        "colab": {
          "base_uri": "https://localhost:8080/"
        },
        "outputId": "8242bd7b-c19f-48ce-9369-2ac74fdedd6b"
      },
      "source": [
        "import pandas as pd\n",
        "from transformers import pipeline\n",
        "from IPython.core.display import HTML\n",
        "import socket\n",
        "from flask import Flask, jsonify, request\n",
        "print(socket.gethostbyname(socket.getfqdn(socket.gethostname())))"
      ],
      "execution_count": 2,
      "outputs": [
        {
          "output_type": "stream",
          "text": [
            "172.28.0.2\n"
          ],
          "name": "stdout"
        }
      ]
    },
    {
      "cell_type": "code",
      "metadata": {
        "colab": {
          "base_uri": "https://localhost:8080/"
        },
        "id": "ZH3hGYOactMA",
        "outputId": "4f0ce3d7-4305-49bd-bca1-02be8d203cc3"
      },
      "source": [
        "classifier = pipeline(\"zero-shot-classification\")"
      ],
      "execution_count": 3,
      "outputs": [
        {
          "output_type": "stream",
          "text": [
            "Some weights of the model checkpoint at facebook/bart-large-mnli were not used when initializing BartForSequenceClassification: ['model.encoder.version', 'model.decoder.version']\n",
            "- This IS expected if you are initializing BartForSequenceClassification from the checkpoint of a model trained on another task or with another architecture (e.g. initializing a BertForSequenceClassification model from a BertForPreTraining model).\n",
            "- This IS NOT expected if you are initializing BartForSequenceClassification from the checkpoint of a model that you expect to be exactly identical (initializing a BertForSequenceClassification model from a BertForSequenceClassification model).\n"
          ],
          "name": "stderr"
        }
      ]
    },
    {
      "cell_type": "markdown",
      "metadata": {
        "id": "rEmdciWllHEs"
      },
      "source": [
        "# Server Side Implementation"
      ]
    },
    {
      "cell_type": "markdown",
      "metadata": {
        "id": "Mbt4YJ0YlV92"
      },
      "source": [
        "### Flask Post end-point"
      ]
    },
    {
      "cell_type": "code",
      "metadata": {
        "id": "96dIK2vjeIBa"
      },
      "source": [
        "app = Flask(__name__)\n",
        "\n",
        "@app.route(\"/\")\n",
        "def Hello():\n",
        "    return \"Hello World....\"\n",
        "\n",
        "@app.route('/classifier', methods=['POST'])                          # Implementation of Classifier.\n",
        "def JsonMethod():\n",
        "    content = request.get_json()\n",
        "\n",
        "    try:\n",
        "      query_text=(content[\"sentence\"])\n",
        "      query_category=(content[\"category\"])\n",
        "    except:\n",
        "      return jsonify(str(\"Data is missing.\" ))\n",
        "\n",
        "\n",
        "\n",
        "    if (type(query_category) is list) and (type(query_text) is str):\n",
        "      try:\n",
        "        result = classifier(query_text, query_category)\n",
        "        prediction=list(zip(result[\"labels\"], result[\"scores\"]))\n",
        "        return jsonify(str(prediction))                                      # Return Tuple of category with probability.\n",
        "      except:\n",
        "        return jsonify(str(\"Data is not correctly formatted. Text should be 'str', while category should be 'list array'. \" ))\n",
        "\n",
        "    \n",
        "    else:\n",
        "        return jsonify(str(\"Datatype mismatched, text should be str, while category should be array\" ))\n",
        "\n"
      ],
      "execution_count": 4,
      "outputs": []
    },
    {
      "cell_type": "markdown",
      "metadata": {
        "id": "TpQcp74ollNr"
      },
      "source": [
        "## Running Server instance on a thread. This way, we can still run client in the same notebook."
      ]
    },
    {
      "cell_type": "code",
      "metadata": {
        "id": "25aNEmaDg8yb"
      },
      "source": [
        "import threading\n",
        "t1=threading.Thread(target=app.run, kwargs={'host':'0.0.0.0','port':80})"
      ],
      "execution_count": 5,
      "outputs": []
    },
    {
      "cell_type": "code",
      "metadata": {
        "colab": {
          "base_uri": "https://localhost:8080/"
        },
        "id": "TkZGqvUPg_8_",
        "outputId": "be5ba515-5c14-433a-d0ba-2b2f692803df"
      },
      "source": [
        "t1.start()"
      ],
      "execution_count": 6,
      "outputs": [
        {
          "output_type": "stream",
          "text": [
            " * Serving Flask app \"__main__\" (lazy loading)\n"
          ],
          "name": "stdout"
        }
      ]
    },
    {
      "cell_type": "code",
      "metadata": {
        "colab": {
          "base_uri": "https://localhost:8080/"
        },
        "id": "xGu7EgPfhCR-",
        "outputId": "7e4370e2-06fd-4ef6-e4b1-4bb14f54244b"
      },
      "source": [
        "t1.is_alive()"
      ],
      "execution_count": 7,
      "outputs": [
        {
          "output_type": "execute_result",
          "data": {
            "text/plain": [
              "True"
            ]
          },
          "metadata": {
            "tags": []
          },
          "execution_count": 7
        },
        {
          "output_type": "stream",
          "text": [
            " * Environment: production\n",
            "\u001b[31m   WARNING: This is a development server. Do not use it in a production deployment.\u001b[0m\n",
            "\u001b[2m   Use a production WSGI server instead.\u001b[0m\n",
            " * Debug mode: off\n"
          ],
          "name": "stdout"
        },
        {
          "output_type": "stream",
          "text": [
            " * Running on http://0.0.0.0:80/ (Press CTRL+C to quit)\n"
          ],
          "name": "stderr"
        }
      ]
    },
    {
      "cell_type": "markdown",
      "metadata": {
        "id": "nfmKi-Ewlrqf"
      },
      "source": [
        "# Client Side Implementation\n",
        "## Python requests package is used to, talk to the server."
      ]
    },
    {
      "cell_type": "code",
      "metadata": {
        "colab": {
          "base_uri": "https://localhost:8080/"
        },
        "id": "NyHmYeM_hGBl",
        "outputId": "f24aacbd-62b7-4d7c-9e96-f2853b12c173"
      },
      "source": [
        "import requests\n",
        "\n",
        "data = {\n",
        "        'sentence':   \"I complained to the respective department under federal, and they solved my issue in a day. Impressed\",\n",
        "        'category': [\"Police\",\n",
        "                     \"poor governance\",\n",
        "                     \"App not working\",\n",
        "                     \"amazing app\",\n",
        "                     \"good governance\"],\n",
        "        }\n",
        "\n",
        "res = requests.post('http://172.28.0.2/classifier', json=data) # Connecting to Server, using Python requests package, and sending Post request.\n",
        "\n",
        "if res.ok:\n",
        "    print(res.json())"
      ],
      "execution_count": 9,
      "outputs": [
        {
          "output_type": "stream",
          "text": [
            "172.28.0.2 - - [29/Dec/2020 04:46:11] \"\u001b[37mPOST /classifier HTTP/1.1\u001b[0m\" 200 -\n"
          ],
          "name": "stderr"
        },
        {
          "output_type": "stream",
          "text": [
            "[('good governance', 0.6999590992927551), ('Police', 0.13267572224140167), ('amazing app', 0.0907571092247963), ('App not working', 0.06189846247434616), ('poor governance', 0.014709617011249065)]\n"
          ],
          "name": "stdout"
        }
      ]
    },
    {
      "cell_type": "code",
      "metadata": {
        "colab": {
          "base_uri": "https://localhost:8080/"
        },
        "id": "4KrQsvE2ddP2",
        "outputId": "9328e739-7dd7-43bd-95cf-b2c1e1073cf6"
      },
      "source": [
        "import requests\n",
        "data = {\n",
        "        'sentence':   \"I complained to the respective department under federal, but they did nothing to my complain\",\n",
        "        'category': [\"Police\",\n",
        "                     \"poor governance\",\n",
        "                     \"App not working\",\n",
        "                     \"amazing app\",\n",
        "                     \"good governance\"],\n",
        "        }\n",
        "\n",
        "res = requests.post('http://172.28.0.2/classifier', json=data)  # Connecting to Server, using Python requests package, and sending Post request.\n",
        "\n",
        "if res.ok:\n",
        "    print(res.json())\n"
      ],
      "execution_count": 10,
      "outputs": [
        {
          "output_type": "stream",
          "text": [
            "172.28.0.2 - - [29/Dec/2020 04:46:17] \"\u001b[37mPOST /classifier HTTP/1.1\u001b[0m\" 200 -\n"
          ],
          "name": "stderr"
        },
        {
          "output_type": "stream",
          "text": [
            "[('poor governance', 0.7187206745147705), ('App not working', 0.14282187819480896), ('Police', 0.10261546820402145), ('good governance', 0.024068979546427727), ('amazing app', 0.01177296508103609)]\n"
          ],
          "name": "stdout"
        }
      ]
    }
  ]
}